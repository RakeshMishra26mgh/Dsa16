{
  "nbformat": 4,
  "nbformat_minor": 0,
  "metadata": {
    "colab": {
      "provenance": [],
      "authorship_tag": "ABX9TyO1qVrwEgAPcBDKEPT4cU5z",
      "include_colab_link": true
    },
    "kernelspec": {
      "name": "python3",
      "display_name": "Python 3"
    },
    "language_info": {
      "name": "python"
    }
  },
  "cells": [
    {
      "cell_type": "markdown",
      "metadata": {
        "id": "view-in-github",
        "colab_type": "text"
      },
      "source": [
        "<a href=\"https://colab.research.google.com/github/RakeshMishra26mgh/Dsa16/blob/main/Dsa16.ipynb\" target=\"_parent\"><img src=\"https://colab.research.google.com/assets/colab-badge.svg\" alt=\"Open In Colab\"/></a>"
      ]
    },
    {
      "cell_type": "markdown",
      "source": [
        "Answer 1:-"
      ],
      "metadata": {
        "id": "MYB_G2Hus6w2"
      }
    },
    {
      "cell_type": "code",
      "source": [
        "def nextGreaterFrequency(arr, n):\n",
        "  stack = []\n",
        "  freq = {}\n",
        "  result = [-1] * n\n",
        "  for i in range(n):\n",
        "    freq[arr[i]] = freq.get(arr[i], 0) + 1\n",
        "\n",
        "    while stack and freq[arr[stack[-1]]] < freq[arr[i]]:\n",
        "      index = stack.pop()\n",
        "      result[index] = arr[i]\n",
        "    stack.append(i)\n",
        "  return result\n",
        "\n",
        "n = int(input(\"Enter the size of the array: \"))\n",
        "\n",
        "arr = list(map(int, input(\"Enter the elements of the array separated by space: \").split()))\n",
        "\n",
        "if len(arr) != n:\n",
        "  print(\"Invalid input. The size of the array does not match the number of elements.\")\n",
        "else:\n",
        "  result = nextGreaterFrequency(arr, n)\n",
        "  print(\"The next greater frequency elements are: \")\n",
        "  print(*result)\n"
      ],
      "metadata": {
        "id": "48R01kWetHJD"
      },
      "execution_count": null,
      "outputs": []
    },
    {
      "cell_type": "markdown",
      "source": [
        "Answer 2:-"
      ],
      "metadata": {
        "id": "s6zXp-LBuswI"
      }
    },
    {
      "cell_type": "code",
      "source": [
        "def sortStack(stack):\n",
        "  temp = []\n",
        "  while stack:\n",
        "    curr = stack.pop()\n",
        "    while temp and temp[-1] > curr:\n",
        "      stack.append(temp.pop())\n",
        "    temp.append(curr)\n",
        "  return temp\n",
        "\n",
        "n = int(input(\"Enter the size of the stack: \"))\n",
        "stack = list(map(int, input(\"Enter the elements of the stack separated by space: \").split()))\n",
        "\n",
        "if len(stack) != n:\n",
        "  print(\"Invalid input. The size of the stack does not match the number of elements.\")\n",
        "else:\n",
        "  result = sortStack(stack)\n",
        "  print(\"The sorted stack is: \")\n",
        "  print(*result)\n"
      ],
      "metadata": {
        "id": "c5QCdEoNuufv"
      },
      "execution_count": null,
      "outputs": []
    },
    {
      "cell_type": "markdown",
      "source": [
        "Answer 3:-"
      ],
      "metadata": {
        "id": "uyR5WSsKx5fJ"
      }
    },
    {
      "cell_type": "code",
      "source": [
        "class Stack:\n",
        "    def __init__(self):\n",
        "        self.items = []\n",
        "    def push(self, item):\n",
        "        self.items.append(item)\n",
        "    def pop(self):\n",
        "        return self.items.pop()\n",
        "    def empty(self):\n",
        "        return len(self.items) == 0\n",
        "    def size(self):\n",
        "        return len(self.items)\n",
        "\n",
        "def deleteMiddle(stack, n, curr = 0):\n",
        "    if stack.empty() or curr == n:\n",
        "        return\n",
        "    x = stack.pop()\n",
        "    deleteMiddle(stack, n, curr + 1)\n",
        "    if curr != n // 2:\n",
        "        stack.push(x)\n",
        "\n",
        "def createStack():\n",
        "    stack = Stack()\n",
        "    elems = input(\"Enter the list of elements separated by space: \")\n",
        "    elems = list(map(int, elems.split()))\n",
        "    if not elems:\n",
        "        print(\"Invalid input. Please enter a non-empty list.\")\n",
        "        return None\n",
        "\n",
        "    for elem in elems:\n",
        "        stack.push(elem)\n",
        "    return stack\n",
        "\n",
        "stack = createStack()\n",
        "if stack:\n",
        "    n = stack.size()\n",
        "    deleteMiddle(stack, n)\n",
        "    reverse_stack = Stack()\n",
        "    while not stack.empty():\n",
        "        reverse_stack.push(stack.pop())\n",
        "    stack = reverse_stack\n",
        "    print(\"The new stack is:\")\n",
        "    while not stack.empty():\n",
        "        print(stack.pop(), end = \" \")\n",
        "\n"
      ],
      "metadata": {
        "id": "58fyb4cKC7jT"
      },
      "execution_count": null,
      "outputs": []
    },
    {
      "cell_type": "markdown",
      "source": [
        "Answer 4:-"
      ],
      "metadata": {
        "id": "R-h9t9fy1RIq"
      }
    },
    {
      "cell_type": "code",
      "source": [
        "def checkOrder(queue, n):\n",
        "  stack = []\n",
        "  another = []\n",
        "  expected = 1\n",
        "  while queue:\n",
        "    x = queue.pop(0)\n",
        "\n",
        "    if x == expected:\n",
        "      another.append(x)\n",
        "      expected += 1\n",
        "\n",
        "    elif not stack or x > stack[-1]:\n",
        "      stack.append(x)\n",
        "\n",
        "    else:\n",
        "      return False\n",
        "  while stack:\n",
        "    x = stack.pop()\n",
        "    another.append(x)\n",
        "    if x == expected:\n",
        "      expected += 1\n",
        "    else:\n",
        "      return False\n",
        "  return True\n",
        "\n",
        "def userInput():\n",
        "  n = int(input(\"Enter the number of elements in the queue: \"))\n",
        "  if n > 0 and n <= 1000:\n",
        "    queue = []\n",
        "    print(\"Enter\", n, \"elements separated by space: \")\n",
        "    elements = input().split()\n",
        "\n",
        "\n",
        "    if len(elements) == n:\n",
        "      for element in elements:\n",
        "        try:\n",
        "          num = int(element)\n",
        "          queue.append(num)\n",
        "        except ValueError:\n",
        "          print(\"Invalid input. Please enter only integers.\")\n",
        "          return None\n",
        "      if len(set(queue)) == n and min(queue) == 1 and max(queue) == n:\n",
        "        return (queue, n)\n",
        "\n",
        "      else:\n",
        "        print(\"Invalid input. Please enter distinct integers in range [1,\", n, \"]\")\n",
        "        return None\n",
        "\n",
        "    else:\n",
        "      print(\"Invalid input. Please enter exactly\", n, \"elements.\")\n",
        "      return None\n",
        "\n",
        "  else:\n",
        "    print(\"Invalid input. Please enter a positive integer less than or equal to 1000.\")\n",
        "    return None\n",
        "\n",
        "\n",
        "result = userInput()\n",
        "if result:\n",
        "  queue, n = result\n",
        "  if checkOrder(queue, n):\n",
        "    print(\"Yes\")\n",
        "  else:\n",
        "    print(\"No\")\n"
      ],
      "metadata": {
        "id": "nqRN53Am1Uw8"
      },
      "execution_count": null,
      "outputs": []
    },
    {
      "cell_type": "markdown",
      "source": [
        "Answer 5:-"
      ],
      "metadata": {
        "id": "WrKKJ2gb2ww6"
      }
    },
    {
      "cell_type": "code",
      "source": [
        "def reverseNumber(n):\n",
        "  stack = []\n",
        "  s = str(n)\n",
        "\n",
        "\n",
        "  for digit in s:\n",
        "    stack.append(digit)\n",
        "\n",
        "  reversed = \"\"\n",
        "  while stack:\n",
        "    reversed += stack.pop()\n",
        "  return int(reversed)\n",
        "\n",
        "def userInput():\n",
        "  n = input(\"Enter a number: \")\n",
        "  try:\n",
        "    num = int(n)\n",
        "\n",
        "\n",
        "    if num > 0 and num <= 10**9:\n",
        "      return num\n",
        "\n",
        "    else:\n",
        "      print(\"Invalid input. Please enter a positive integer less than or equal to 10^9.\")\n",
        "      return None\n",
        "\n",
        "  except ValueError:\n",
        "    print(\"Invalid input. Please enter only integers.\")\n",
        "    return None\n",
        "\n",
        "result = userInput()\n",
        "if result:\n",
        "  print(reverseNumber(result))\n"
      ],
      "metadata": {
        "id": "o-zLKapr2yz8"
      },
      "execution_count": null,
      "outputs": []
    },
    {
      "cell_type": "markdown",
      "source": [
        "Answer 6:-"
      ],
      "metadata": {
        "id": "QqgZg_d73iBB"
      }
    },
    {
      "cell_type": "code",
      "source": [
        "def reverseK(queue, k):\n",
        "  stack = []\n",
        "\n",
        "  if k > len(queue) or k < 0:\n",
        "    return None\n",
        "\n",
        "  for i in range(k):\n",
        "    x = queue.pop(0)\n",
        "    stack.append(x)\n",
        "\n",
        "  while stack:\n",
        "    x = stack.pop()\n",
        "    queue.append(x)\n",
        "\n",
        "  for i in range(len(queue) - k):\n",
        "    x = queue.pop(0)\n",
        "    queue.append(x)\n",
        "  return queue\n",
        "\n",
        "def userInput():\n",
        "  n = int(input(\"Enter the number of elements in the queue: \"))\n",
        "\n",
        "  if n > 0 and n <= 1000:\n",
        "    queue = []\n",
        "\n",
        "\n",
        "    print(\"Enter\", n, \"elements separated by space: \")\n",
        "    elements = input().split()\n",
        "\n",
        "    if len(elements) == n:\n",
        "      for element in elements:\n",
        "        try:\n",
        "          num = int(element)\n",
        "          queue.append(num)\n",
        "        except ValueError:\n",
        "          print(\"Invalid input. Please enter only integers.\")\n",
        "          return None\n",
        "\n",
        "      k = int(input(\"Enter the value of k: \"))\n",
        "\n",
        "      if k > 0 and k <= n:\n",
        "        return (queue, k)\n",
        "\n",
        "      else:\n",
        "        print(\"Invalid input. Please enter a positive integer less than or equal to\", n)\n",
        "        return None\n",
        "\n",
        "    else:\n",
        "      print(\"Invalid input. Please enter exactly\", n, \"elements.\")\n",
        "      return None\n",
        "\n",
        "  else:\n",
        "    print(\"Invalid input. Please enter a positive integer less than or equal to 1000.\")\n",
        "    return None\n",
        "\n",
        "result = userInput()\n",
        "\n",
        "if result:\n",
        "  queue, k = result\n",
        "  print(reverseK(queue, k))\n"
      ],
      "metadata": {
        "id": "g9dzwE-i3jzB"
      },
      "execution_count": null,
      "outputs": []
    },
    {
      "cell_type": "markdown",
      "source": [
        "Answer 7:-"
      ],
      "metadata": {
        "id": "RkQ85V7943_R"
      }
    },
    {
      "cell_type": "code",
      "source": [
        "def checkWords(words):\n",
        "    freq = {}\n",
        "    for word in words:\n",
        "        freq[word] = freq.get(word, 0) + 1\n",
        "    result = len(words)\n",
        "    for count in freq.values():\n",
        "        if count % 2 == 0:\n",
        "            result -= count\n",
        "    return result\n",
        "\n",
        "words = input(\"Enter the sequence of words separated by space: \")\n",
        "words = words.split()\n",
        "result = checkWords(words)\n",
        "print(\"The number of words left after destruction is:\", result)\n"
      ],
      "metadata": {
        "id": "AKwnVSGOFd5w"
      },
      "execution_count": null,
      "outputs": []
    },
    {
      "cell_type": "markdown",
      "source": [
        "Answer 8:-"
      ],
      "metadata": {
        "id": "4Jgt9muB54Zk"
      }
    },
    {
      "cell_type": "code",
      "source": [
        "\n",
        "def maxDiff(arr):\n",
        "  stack = []\n",
        "  left = []\n",
        "\n",
        "  for i in range(len(arr)):\n",
        "    while stack and stack[-1] >= arr[i]:\n",
        "      stack.pop()\n",
        "    if not stack:\n",
        "      left.append(0)\n",
        "\n",
        "    else:\n",
        "      left.append(stack[-1])\n",
        "\n",
        "    stack.append(arr[i])\n",
        "\n",
        "  stack.clear()\n",
        "  right = []\n",
        "\n",
        "  for i in range(len(arr) - 1, -1, -1):\n",
        "    while stack and stack[-1] >= arr[i]:\n",
        "      stack.pop()\n",
        "\n",
        "\n",
        "    if not stack:\n",
        "      right.append(0)\n",
        "\n",
        "\n",
        "    else:\n",
        "      right.append(stack[-1])\n",
        "    stack.append(arr[i])\n",
        "  right.reverse()\n",
        "  max_diff = 0\n",
        "\n",
        "  for i in range(len(arr)):\n",
        "    diff = abs(left[i] - right[i])\n",
        "\n",
        "    if diff > max_diff:\n",
        "      max_diff = diff\n",
        "  return max_diff\n",
        "\n",
        "\n",
        "def userInput():\n",
        "  n = int(input(\"Enter the number of elements in the array: \"))\n",
        "  if n > 0 and n <= 1000:\n",
        "    arr = []\n",
        "    print(\"Enter\", n, \"elements separated by space: \")\n",
        "    elements = input().split()\n",
        "\n",
        "    if len(elements) == n:\n",
        "      for element in elements:\n",
        "        try:\n",
        "          num = int(element)\n",
        "          arr.append(num)\n",
        "        except ValueError:\n",
        "          print(\"Invalid input. Please enter only integers.\")\n",
        "          return None\n",
        "      return arr\n",
        "\n",
        "    else:\n",
        "      print(\"Invalid input. Please enter exactly\", n, \"elements.\")\n",
        "      return None\n",
        "\n",
        "  else:\n",
        "    print(\"Invalid input. Please enter a positive integer less than or equal to 1000.\")\n",
        "    return None\n",
        "\n",
        "result = userInput()\n",
        "\n",
        "if result:\n",
        "  print(maxDiff(result))\n"
      ],
      "metadata": {
        "id": "f5BHUDMZ56cM"
      },
      "execution_count": null,
      "outputs": []
    }
  ]
}